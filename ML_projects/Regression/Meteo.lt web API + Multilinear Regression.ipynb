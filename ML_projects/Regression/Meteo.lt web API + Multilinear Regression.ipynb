{
 "cells": [
  {
   "cell_type": "markdown",
   "id": "5420b63c-cdc5-49c5-a237-47a31d5026a4",
   "metadata": {},
   "source": [
    "## Importing the libraries"
   ]
  },
  {
   "cell_type": "code",
   "execution_count": 1,
   "id": "ad4d3d15-5862-48fe-a28e-0344c5d3bbe8",
   "metadata": {},
   "outputs": [],
   "source": [
    "import requests\n",
    "from datetime import datetime\n",
    "import numpy as np\n",
    "import pandas as pd\n",
    "import matplotlib.pyplot as plt"
   ]
  },
  {
   "cell_type": "markdown",
   "id": "44f585f5-7afa-4f09-9439-f06e111a39ae",
   "metadata": {},
   "source": [
    "## json Request from API"
   ]
  },
  {
   "cell_type": "code",
   "execution_count": 2,
   "id": "d4f9cf14-a7e0-426a-8f20-03405524c83b",
   "metadata": {},
   "outputs": [],
   "source": [
    "HOST = 'https://api.meteo.lt/v1'\n",
    "r = requests.get(HOST+'/places/vilnius/forecasts/long-term')\n",
    "json = r.json()"
   ]
  },
  {
   "cell_type": "code",
   "execution_count": 3,
   "id": "e70c6ca3-06ef-4af6-820d-342bc31b8918",
   "metadata": {},
   "outputs": [
    {
     "name": "stdout",
     "output_type": "stream",
     "text": [
      "Forecast_at_2024_05_29_15_48.csv\n"
     ]
    }
   ],
   "source": [
    "time_stamp = 'Forecast_at_' + datetime.now().strftime(\"%Y_%m_%d_%H_%M\") + '.csv'\n",
    "print(time_stamp)"
   ]
  },
  {
   "cell_type": "markdown",
   "id": "9390f1fd-b7de-4d13-835a-21d55bddba9a",
   "metadata": {},
   "source": [
    "## Converting json to dataframe"
   ]
  },
  {
   "cell_type": "code",
   "execution_count": 4,
   "id": "dfb7be89-fe55-4618-9a01-5c73e0c6d63e",
   "metadata": {},
   "outputs": [],
   "source": [
    "dataset = pd.DataFrame.from_dict(json['forecastTimestamps'])"
   ]
  },
  {
   "cell_type": "markdown",
   "id": "eeb74fe1-e754-4be0-bbef-adec202cfb62",
   "metadata": {},
   "source": [
    "## Checking for NaN values"
   ]
  },
  {
   "cell_type": "code",
   "execution_count": 5,
   "id": "4502320e-d41d-482a-85f0-d51d756e72f4",
   "metadata": {},
   "outputs": [
    {
     "data": {
      "text/plain": [
       "True"
      ]
     },
     "execution_count": 5,
     "metadata": {},
     "output_type": "execute_result"
    }
   ],
   "source": [
    "dataset.isnull().values.any()"
   ]
  },
  {
   "cell_type": "code",
   "execution_count": 6,
   "id": "b75dc021-0170-40fa-834c-e7c92ae4f6e4",
   "metadata": {},
   "outputs": [
    {
     "data": {
      "text/plain": [
       "forecastTimeUtc         0\n",
       "airTemperature          0\n",
       "feelsLikeTemperature    0\n",
       "windSpeed               0\n",
       "windGust                0\n",
       "windDirection           0\n",
       "cloudCover              0\n",
       "seaLevelPressure        0\n",
       "relativeHumidity        1\n",
       "totalPrecipitation      0\n",
       "conditionCode           0\n",
       "dtype: int64"
      ]
     },
     "execution_count": 6,
     "metadata": {},
     "output_type": "execute_result"
    }
   ],
   "source": [
    "dataset.isnull().sum()"
   ]
  },
  {
   "cell_type": "code",
   "execution_count": 9,
   "id": "df85c5b6-8f13-4709-b94f-586d54c33379",
   "metadata": {},
   "outputs": [
    {
     "name": "stdout",
     "output_type": "stream",
     "text": [
      "forecastTimeUtc airTemperature feelsLikeTemperature windSpeed windGust windDirection cloudCover seaLevelPressure relativeHumidity totalPrecipitation conditionCode\n"
     ]
    }
   ],
   "source": [
    "print(*dataset.columns.tolist())"
   ]
  },
  {
   "cell_type": "markdown",
   "id": "f40ed287-3762-4f77-9cf6-859897bc73ed",
   "metadata": {},
   "source": [
    "## Saving dataframe to .csv file"
   ]
  },
  {
   "cell_type": "code",
   "execution_count": null,
   "id": "b5928f2f-5351-425e-8330-0c575f376faa",
   "metadata": {},
   "outputs": [],
   "source": [
    "dataset.to_csv(time_stamp, index=False)"
   ]
  },
  {
   "cell_type": "markdown",
   "id": "650c757e-0489-46a6-a434-e34632cf6f9b",
   "metadata": {},
   "source": [
    "## Plotting dataframe"
   ]
  },
  {
   "cell_type": "code",
   "execution_count": null,
   "id": "901e788a-a02c-476b-a0ab-75aa519ffaae",
   "metadata": {},
   "outputs": [],
   "source": [
    "plt.plot(dataset['forecastTimeUtc'].index[:], dataset.iloc[:,1].values, color='black')\n",
    "plt.scatter(dataset['forecastTimeUtc'].index[:], dataset.iloc[:,1].values, color='black')\n",
    "plt.xlabel(dataset.iloc[0,0][0:-3] + \" \" + dataset.iloc[-1,0][0:-3])\n",
    "plt.ylabel('Temperature (C)')\n",
    "plt.show()"
   ]
  },
  {
   "cell_type": "markdown",
   "id": "be0d9e35-427e-414d-aea5-3bcffd9cb173",
   "metadata": {},
   "source": [
    "## Filtering dataframe by hour"
   ]
  },
  {
   "cell_type": "code",
   "execution_count": null,
   "id": "9f475e85-c22c-4254-b20b-614d7eeb5702",
   "metadata": {},
   "outputs": [],
   "source": [
    "# data_by_hour = dataset[dataset['forecastTimeUtc'].str.contains('00:00:00')]"
   ]
  },
  {
   "cell_type": "code",
   "execution_count": null,
   "id": "f100f28d-55fd-4ab8-810d-56628919aba2",
   "metadata": {},
   "outputs": [],
   "source": [
    "# plt.plot(data_by_hour['forecastTimeUtc'].index[:56], data_by_hour['airTemperature'], color='red')\n",
    "# plt.xlabel(dataset.iloc[0,0][0:11] + dataset.iloc[-1,0][0:10])\n",
    "# plt.ylabel('Temperature (C)')\n",
    "# plt.show()"
   ]
  },
  {
   "cell_type": "markdown",
   "id": "a9bd8cac-c9ce-4f2a-9ed3-22306437f81b",
   "metadata": {},
   "source": [
    "## Splitting dataframe to X and y dataframes"
   ]
  },
  {
   "cell_type": "code",
   "execution_count": null,
   "id": "fd523274-e77c-410d-b64f-07886594cca6",
   "metadata": {},
   "outputs": [],
   "source": [
    "X = dataset.iloc[:, 3:].values\n",
    "y = dataset.iloc[:,1].values"
   ]
  },
  {
   "cell_type": "markdown",
   "id": "3c1fcca5-45f7-47f7-82bb-2d8dc987ea1b",
   "metadata": {},
   "source": [
    "## Encoding categorical data"
   ]
  },
  {
   "cell_type": "code",
   "execution_count": null,
   "id": "79df661b-dac0-4957-bc10-48aabfce88f4",
   "metadata": {},
   "outputs": [],
   "source": [
    "from sklearn.compose import ColumnTransformer\n",
    "from sklearn.preprocessing import OneHotEncoder\n",
    "ct = ColumnTransformer(transformers=[('encoder', OneHotEncoder(), [-1])], remainder='passthrough')\n",
    "X = np.array(ct.fit_transform(X))"
   ]
  },
  {
   "cell_type": "markdown",
   "id": "5858e39d-3d86-451f-b5ad-f413e4c1532b",
   "metadata": {},
   "source": [
    "## Filling missing dataframe values"
   ]
  },
  {
   "cell_type": "code",
   "execution_count": null,
   "id": "e8e7fc37-4cda-4bdd-93bd-45fe9ead6b08",
   "metadata": {},
   "outputs": [],
   "source": [
    "from sklearn.impute import SimpleImputer\n",
    "imputer = SimpleImputer(missing_values = np.nan, strategy = 'mean')\n",
    "imputer.fit(X)\n",
    "X = imputer.transform(X)"
   ]
  },
  {
   "cell_type": "markdown",
   "id": "ff0c364d-531a-4d5c-b6a4-67578fe71655",
   "metadata": {},
   "source": [
    "## Splitting the dataset into the Training set and Test set"
   ]
  },
  {
   "cell_type": "code",
   "execution_count": null,
   "id": "1a310be4-de49-4c10-b0e8-312d4e21057c",
   "metadata": {},
   "outputs": [],
   "source": [
    "from sklearn.model_selection import train_test_split\n",
    "X_train, X_test, y_train, y_test = train_test_split(X, y, test_size = 0.33, random_state = 42)"
   ]
  },
  {
   "cell_type": "markdown",
   "id": "5d097807-b961-4e17-8f5f-0459b37e2948",
   "metadata": {},
   "source": [
    "## Training the Multilinear Regression model on the Training set"
   ]
  },
  {
   "cell_type": "code",
   "execution_count": null,
   "id": "794ef909-7c18-49de-9176-d091ef949d3a",
   "metadata": {},
   "outputs": [],
   "source": [
    "from sklearn.linear_model import LinearRegression\n",
    "regressor = LinearRegression()\n",
    "regressor.fit(X_train, y_train)"
   ]
  },
  {
   "cell_type": "markdown",
   "id": "945e2a06-aa47-47cf-ab71-278c21dc1470",
   "metadata": {},
   "source": [
    "## Visualising the Multilinear Regression results with dataframe results"
   ]
  },
  {
   "cell_type": "code",
   "execution_count": null,
   "id": "7be46c24-cd5e-4b59-ac94-0cf84d12a1a7",
   "metadata": {},
   "outputs": [],
   "source": [
    "plt.scatter(dataset.index[0:len(y_test)], y_test, color = 'red')\n",
    "plt.scatter(dataset.index[0:len(y_test)], regressor.predict(X_test), color = 'blue')\n",
    "plt.plot(dataset.index[0:len(y_test)], y_test, color = 'red')\n",
    "plt.plot(dataset.index[0:len(y_test)], regressor.predict(X_test), color = 'blue')\n",
    "plt.title('Multilinear Regression')\n",
    "plt.xlabel('Index')\n",
    "plt.ylabel('Temperature (C)')\n",
    "plt.show()"
   ]
  },
  {
   "cell_type": "markdown",
   "id": "c9b71c75-940c-4c8c-bf09-2753e0124506",
   "metadata": {},
   "source": [
    "## Predicting the Test set results"
   ]
  },
  {
   "cell_type": "code",
   "execution_count": null,
   "id": "eabd22c1-3ac0-4b45-b991-8d7f1799ed02",
   "metadata": {},
   "outputs": [],
   "source": [
    "y_pred = regressor.predict(X_test)\n",
    "np.set_printoptions(precision=2)\n",
    "print(np.concatenate((y_pred.reshape(len(y_pred),1), y_test.reshape(len(y_test),1)),1))"
   ]
  },
  {
   "cell_type": "markdown",
   "id": "6bbb38cc-4d2d-4ff1-911c-90c158d4c495",
   "metadata": {},
   "source": [
    "## Evaluating the Model Performance"
   ]
  },
  {
   "cell_type": "code",
   "execution_count": null,
   "id": "7d542b67-5434-4139-8bb6-09d9210b655e",
   "metadata": {},
   "outputs": [],
   "source": [
    "from sklearn.metrics import r2_score\n",
    "r2_score(y_test, y_pred)"
   ]
  },
  {
   "cell_type": "code",
   "execution_count": null,
   "id": "491d9728-0d07-4536-af7d-235bb6015977",
   "metadata": {},
   "outputs": [],
   "source": []
  }
 ],
 "metadata": {
  "kernelspec": {
   "display_name": "Python 3 (ipykernel)",
   "language": "python",
   "name": "python3"
  },
  "language_info": {
   "codemirror_mode": {
    "name": "ipython",
    "version": 3
   },
   "file_extension": ".py",
   "mimetype": "text/x-python",
   "name": "python",
   "nbconvert_exporter": "python",
   "pygments_lexer": "ipython3",
   "version": "3.10.11"
  }
 },
 "nbformat": 4,
 "nbformat_minor": 5
}
